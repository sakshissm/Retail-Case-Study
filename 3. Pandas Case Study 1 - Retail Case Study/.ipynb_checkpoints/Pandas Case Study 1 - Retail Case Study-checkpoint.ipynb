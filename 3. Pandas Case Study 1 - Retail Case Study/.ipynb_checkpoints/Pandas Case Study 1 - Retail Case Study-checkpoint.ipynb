{
 "cells": [
  {
   "cell_type": "code",
   "execution_count": 74,
   "metadata": {},
   "outputs": [],
   "source": [
    "import pandas as pd\n",
    "import numpy as np\n",
    "import matplotlib.pyplot as plt\n",
    "import seaborn as sns\n",
    "import datetime\n",
    "%matplotlib inline"
   ]
  },
  {
   "cell_type": "code",
   "execution_count": 2,
   "metadata": {},
   "outputs": [
    {
     "name": "stdout",
     "output_type": "stream",
     "text": [
      "   customer_Id         DOB Gender  city_code\n",
      "0       268408  02-01-1970      M        4.0\n",
      "1       269696  07-01-1970      F        8.0\n",
      "   transaction_id  cust_id   tran_date  prod_subcat_code  prod_cat_code  Qty  \\\n",
      "0     80712190438   270351  28-02-2014                 1              1   -5   \n",
      "1     29258453508   270384  27-02-2014                 5              3   -5   \n",
      "\n",
      "   Rate      Tax  total_amt Store_type  \n",
      "0  -772  405.300  -4265.300     e-Shop  \n",
      "1 -1497  785.925  -8270.925     e-Shop  \n",
      "   prod_cat_code  prod_cat  prod_sub_cat_code prod_subcat\n",
      "0              1  Clothing                  4        Mens\n",
      "1              1  Clothing                  1       Women\n"
     ]
    }
   ],
   "source": [
    "cust=pd.read_csv(\"Customer.csv\")\n",
    "trans=pd.read_csv(\"Transactions.csv\")\n",
    "prod_hir=pd.read_csv(\"prod_cat_info.csv\")\n",
    "\n",
    "print(cust.head(2))\n",
    "print(trans.head(2))\n",
    "print(prod_hir.head(2))"
   ]
  },
  {
   "cell_type": "code",
   "execution_count": 3,
   "metadata": {},
   "outputs": [],
   "source": [
    "cust_trans=pd.merge(cust,trans,how='inner',left_on='customer_Id', right_on='cust_id')\n",
    "Customer_final=pd.merge(cust_trans,prod_hir,how='inner',left_on=['prod_cat_code','prod_subcat_code'],right_on=['prod_cat_code','prod_sub_cat_code'])"
   ]
  },
  {
   "cell_type": "code",
   "execution_count": 4,
   "metadata": {},
   "outputs": [
    {
     "data": {
      "text/html": [
       "<div>\n",
       "<style scoped>\n",
       "    .dataframe tbody tr th:only-of-type {\n",
       "        vertical-align: middle;\n",
       "    }\n",
       "\n",
       "    .dataframe tbody tr th {\n",
       "        vertical-align: top;\n",
       "    }\n",
       "\n",
       "    .dataframe thead th {\n",
       "        text-align: right;\n",
       "    }\n",
       "</style>\n",
       "<table border=\"1\" class=\"dataframe\">\n",
       "  <thead>\n",
       "    <tr style=\"text-align: right;\">\n",
       "      <th></th>\n",
       "      <th>customer_Id</th>\n",
       "      <th>DOB</th>\n",
       "      <th>Gender</th>\n",
       "      <th>city_code</th>\n",
       "      <th>transaction_id</th>\n",
       "      <th>cust_id</th>\n",
       "      <th>tran_date</th>\n",
       "      <th>prod_subcat_code</th>\n",
       "      <th>prod_cat_code</th>\n",
       "      <th>Qty</th>\n",
       "      <th>Rate</th>\n",
       "      <th>Tax</th>\n",
       "      <th>total_amt</th>\n",
       "      <th>Store_type</th>\n",
       "      <th>prod_cat</th>\n",
       "      <th>prod_sub_cat_code</th>\n",
       "      <th>prod_subcat</th>\n",
       "    </tr>\n",
       "  </thead>\n",
       "  <tbody>\n",
       "    <tr>\n",
       "      <th>0</th>\n",
       "      <td>268408</td>\n",
       "      <td>02-01-1970</td>\n",
       "      <td>M</td>\n",
       "      <td>4.0</td>\n",
       "      <td>87243835584</td>\n",
       "      <td>268408</td>\n",
       "      <td>13-01-2014</td>\n",
       "      <td>7</td>\n",
       "      <td>5</td>\n",
       "      <td>5</td>\n",
       "      <td>187</td>\n",
       "      <td>98.175</td>\n",
       "      <td>1033.175</td>\n",
       "      <td>TeleShop</td>\n",
       "      <td>Books</td>\n",
       "      <td>7</td>\n",
       "      <td>Fiction</td>\n",
       "    </tr>\n",
       "    <tr>\n",
       "      <th>1</th>\n",
       "      <td>275152</td>\n",
       "      <td>16-01-1970</td>\n",
       "      <td>M</td>\n",
       "      <td>4.0</td>\n",
       "      <td>73109425404</td>\n",
       "      <td>275152</td>\n",
       "      <td>25-03-2011</td>\n",
       "      <td>7</td>\n",
       "      <td>5</td>\n",
       "      <td>2</td>\n",
       "      <td>464</td>\n",
       "      <td>97.440</td>\n",
       "      <td>1025.440</td>\n",
       "      <td>e-Shop</td>\n",
       "      <td>Books</td>\n",
       "      <td>7</td>\n",
       "      <td>Fiction</td>\n",
       "    </tr>\n",
       "    <tr>\n",
       "      <th>2</th>\n",
       "      <td>275034</td>\n",
       "      <td>18-01-1970</td>\n",
       "      <td>F</td>\n",
       "      <td>4.0</td>\n",
       "      <td>64777271023</td>\n",
       "      <td>275034</td>\n",
       "      <td>23-05-2011</td>\n",
       "      <td>7</td>\n",
       "      <td>5</td>\n",
       "      <td>2</td>\n",
       "      <td>197</td>\n",
       "      <td>41.370</td>\n",
       "      <td>435.370</td>\n",
       "      <td>Flagship store</td>\n",
       "      <td>Books</td>\n",
       "      <td>7</td>\n",
       "      <td>Fiction</td>\n",
       "    </tr>\n",
       "    <tr>\n",
       "      <th>3</th>\n",
       "      <td>270829</td>\n",
       "      <td>22-01-1970</td>\n",
       "      <td>F</td>\n",
       "      <td>8.0</td>\n",
       "      <td>87174343938</td>\n",
       "      <td>270829</td>\n",
       "      <td>9/12/2013</td>\n",
       "      <td>7</td>\n",
       "      <td>5</td>\n",
       "      <td>4</td>\n",
       "      <td>1141</td>\n",
       "      <td>479.220</td>\n",
       "      <td>5043.220</td>\n",
       "      <td>e-Shop</td>\n",
       "      <td>Books</td>\n",
       "      <td>7</td>\n",
       "      <td>Fiction</td>\n",
       "    </tr>\n",
       "    <tr>\n",
       "      <th>4</th>\n",
       "      <td>267657</td>\n",
       "      <td>29-01-1970</td>\n",
       "      <td>F</td>\n",
       "      <td>7.0</td>\n",
       "      <td>76242744953</td>\n",
       "      <td>267657</td>\n",
       "      <td>23-05-2013</td>\n",
       "      <td>7</td>\n",
       "      <td>5</td>\n",
       "      <td>4</td>\n",
       "      <td>1020</td>\n",
       "      <td>428.400</td>\n",
       "      <td>4508.400</td>\n",
       "      <td>e-Shop</td>\n",
       "      <td>Books</td>\n",
       "      <td>7</td>\n",
       "      <td>Fiction</td>\n",
       "    </tr>\n",
       "  </tbody>\n",
       "</table>\n",
       "</div>"
      ],
      "text/plain": [
       "   customer_Id         DOB Gender  city_code  transaction_id  cust_id  \\\n",
       "0       268408  02-01-1970      M        4.0     87243835584   268408   \n",
       "1       275152  16-01-1970      M        4.0     73109425404   275152   \n",
       "2       275034  18-01-1970      F        4.0     64777271023   275034   \n",
       "3       270829  22-01-1970      F        8.0     87174343938   270829   \n",
       "4       267657  29-01-1970      F        7.0     76242744953   267657   \n",
       "\n",
       "    tran_date  prod_subcat_code  prod_cat_code  Qty  Rate      Tax  total_amt  \\\n",
       "0  13-01-2014                 7              5    5   187   98.175   1033.175   \n",
       "1  25-03-2011                 7              5    2   464   97.440   1025.440   \n",
       "2  23-05-2011                 7              5    2   197   41.370    435.370   \n",
       "3   9/12/2013                 7              5    4  1141  479.220   5043.220   \n",
       "4  23-05-2013                 7              5    4  1020  428.400   4508.400   \n",
       "\n",
       "       Store_type prod_cat  prod_sub_cat_code prod_subcat  \n",
       "0        TeleShop    Books                  7     Fiction  \n",
       "1          e-Shop    Books                  7     Fiction  \n",
       "2  Flagship store    Books                  7     Fiction  \n",
       "3          e-Shop    Books                  7     Fiction  \n",
       "4          e-Shop    Books                  7     Fiction  "
      ]
     },
     "execution_count": 4,
     "metadata": {},
     "output_type": "execute_result"
    }
   ],
   "source": [
    "Customer_final.head()"
   ]
  },
  {
   "cell_type": "code",
   "execution_count": 5,
   "metadata": {},
   "outputs": [
    {
     "name": "stdout",
     "output_type": "stream",
     "text": [
      "customer_Id            int64\n",
      "DOB                   object\n",
      "Gender                object\n",
      "city_code            float64\n",
      "transaction_id         int64\n",
      "cust_id                int64\n",
      "tran_date             object\n",
      "prod_subcat_code       int64\n",
      "prod_cat_code          int64\n",
      "Qty                    int64\n",
      "Rate                   int64\n",
      "Tax                  float64\n",
      "total_amt            float64\n",
      "Store_type            object\n",
      "prod_cat              object\n",
      "prod_sub_cat_code      int64\n",
      "prod_subcat           object\n",
      "dtype: object\n",
      "Index(['customer_Id', 'DOB', 'Gender', 'city_code', 'transaction_id',\n",
      "       'cust_id', 'tran_date', 'prod_subcat_code', 'prod_cat_code', 'Qty',\n",
      "       'Rate', 'Tax', 'total_amt', 'Store_type', 'prod_cat',\n",
      "       'prod_sub_cat_code', 'prod_subcat'],\n",
      "      dtype='object')\n"
     ]
    }
   ],
   "source": [
    "print(Customer_final.dtypes)\n",
    "print(Customer_final.columns)"
   ]
  },
  {
   "cell_type": "code",
   "execution_count": 6,
   "metadata": {},
   "outputs": [
    {
     "name": "stdout",
     "output_type": "stream",
     "text": [
      "   customer_Id         DOB Gender  city_code  transaction_id  cust_id  \\\n",
      "0       268408  02-01-1970      M        4.0     87243835584   268408   \n",
      "1       275152  16-01-1970      M        4.0     73109425404   275152   \n",
      "2       275034  18-01-1970      F        4.0     64777271023   275034   \n",
      "3       270829  22-01-1970      F        8.0     87174343938   270829   \n",
      "4       267657  29-01-1970      F        7.0     76242744953   267657   \n",
      "5       274630  01-02-1970      M        4.0     78357345891   274630   \n",
      "6       273541  01-02-1970      M        4.0     23916816961   273541   \n",
      "7       269008  13-02-1970      F        6.0     35560569829   269008   \n",
      "8       269008  13-02-1970      F        6.0     94033312891   269008   \n",
      "9       267199  14-02-1970    NaN        2.0     56749259881   267199   \n",
      "\n",
      "    tran_date  prod_subcat_code  prod_cat_code  Qty  Rate      Tax  total_amt  \\\n",
      "0  13-01-2014                 7              5    5   187   98.175   1033.175   \n",
      "1  25-03-2011                 7              5    2   464   97.440   1025.440   \n",
      "2  23-05-2011                 7              5    2   197   41.370    435.370   \n",
      "3   9/12/2013                 7              5    4  1141  479.220   5043.220   \n",
      "4  23-05-2013                 7              5    4  1020  428.400   4508.400   \n",
      "5   11/4/2012                 7              5    1   646   67.830    713.830   \n",
      "6    9/2/2013                 7              5    4   410  172.200   1812.200   \n",
      "7    9/3/2013                 7              5    1  1441  151.305   1592.305   \n",
      "8  26-04-2012                 7              5    5   746  391.650   4121.650   \n",
      "9   11/1/2012                 7              5    4  1049  440.580   4636.580   \n",
      "\n",
      "       Store_type prod_cat  prod_sub_cat_code prod_subcat  \n",
      "0        TeleShop    Books                  7     Fiction  \n",
      "1          e-Shop    Books                  7     Fiction  \n",
      "2  Flagship store    Books                  7     Fiction  \n",
      "3          e-Shop    Books                  7     Fiction  \n",
      "4          e-Shop    Books                  7     Fiction  \n",
      "5        TeleShop    Books                  7     Fiction  \n",
      "6          e-Shop    Books                  7     Fiction  \n",
      "7          e-Shop    Books                  7     Fiction  \n",
      "8             MBR    Books                  7     Fiction  \n",
      "9             MBR    Books                  7     Fiction  \n",
      "       customer_Id         DOB Gender  city_code  transaction_id  cust_id  \\\n",
      "23043       268914  15-11-1992      F        3.0      1407823655   268914   \n",
      "23044       269519  17-11-1992      M        9.0     29719500605   269519   \n",
      "23045       273524  25-11-1992      F        1.0     25762805863   273524   \n",
      "23046       272141  02-12-1992      F       10.0     71337087467   272141   \n",
      "23047       272141  02-12-1992      F       10.0     71337087467   272141   \n",
      "23048       267812  04-12-1992      F        1.0     63540378797   267812   \n",
      "23049       274618  09-12-1992      F        7.0     71793203305   274618   \n",
      "23050       268097  15-12-1992      F        7.0     91217108818   268097   \n",
      "23051       268097  15-12-1992      F        7.0     90114483354   268097   \n",
      "23052       268097  15-12-1992      F        7.0     90114483354   268097   \n",
      "\n",
      "        tran_date  prod_subcat_code  prod_cat_code  Qty  Rate      Tax  \\\n",
      "23043   10/6/2011                10              5    1  1252  131.460   \n",
      "23044  24-12-2013                10              5    4  1036  435.120   \n",
      "23045  19-11-2012                10              5    1  1401  147.105   \n",
      "23046  22-07-2012                10              5   -3 -1422  447.930   \n",
      "23047  16-07-2012                10              5    3  1422  447.930   \n",
      "23048  10/10/2012                10              5    3   224   70.560   \n",
      "23049  17-08-2013                10              5    4   691  290.220   \n",
      "23050    1/2/2012                10              5    2   411   86.310   \n",
      "23051  31-01-2011                10              5   -4 -1408  591.360   \n",
      "23052  26-01-2011                10              5    4  1408  591.360   \n",
      "\n",
      "       total_amt      Store_type prod_cat  prod_sub_cat_code  prod_subcat  \n",
      "23043   1383.460             MBR    Books                 10  Non-Fiction  \n",
      "23044   4579.120        TeleShop    Books                 10  Non-Fiction  \n",
      "23045   1548.105  Flagship store    Books                 10  Non-Fiction  \n",
      "23046  -4713.930          e-Shop    Books                 10  Non-Fiction  \n",
      "23047   4713.930          e-Shop    Books                 10  Non-Fiction  \n",
      "23048    742.560        TeleShop    Books                 10  Non-Fiction  \n",
      "23049   3054.220  Flagship store    Books                 10  Non-Fiction  \n",
      "23050    908.310          e-Shop    Books                 10  Non-Fiction  \n",
      "23051  -6223.360          e-Shop    Books                 10  Non-Fiction  \n",
      "23052   6223.360          e-Shop    Books                 10  Non-Fiction  \n"
     ]
    }
   ],
   "source": [
    "print(Customer_final.head(10))\n",
    "print(Customer_final.tail(10))"
   ]
  },
  {
   "cell_type": "code",
   "execution_count": 7,
   "metadata": {},
   "outputs": [
    {
     "data": {
      "text/html": [
       "<div>\n",
       "<style scoped>\n",
       "    .dataframe tbody tr th:only-of-type {\n",
       "        vertical-align: middle;\n",
       "    }\n",
       "\n",
       "    .dataframe tbody tr th {\n",
       "        vertical-align: top;\n",
       "    }\n",
       "\n",
       "    .dataframe thead th {\n",
       "        text-align: right;\n",
       "    }\n",
       "</style>\n",
       "<table border=\"1\" class=\"dataframe\">\n",
       "  <thead>\n",
       "    <tr style=\"text-align: right;\">\n",
       "      <th></th>\n",
       "      <th>count</th>\n",
       "      <th>mean</th>\n",
       "      <th>std</th>\n",
       "      <th>min</th>\n",
       "      <th>25%</th>\n",
       "      <th>50%</th>\n",
       "      <th>75%</th>\n",
       "      <th>max</th>\n",
       "    </tr>\n",
       "  </thead>\n",
       "  <tbody>\n",
       "    <tr>\n",
       "      <th>Qty</th>\n",
       "      <td>23053.0</td>\n",
       "      <td>2.432395</td>\n",
       "      <td>2.268406</td>\n",
       "      <td>-5.000</td>\n",
       "      <td>1.00</td>\n",
       "      <td>3.00</td>\n",
       "      <td>4.000</td>\n",
       "      <td>5.0</td>\n",
       "    </tr>\n",
       "    <tr>\n",
       "      <th>Rate</th>\n",
       "      <td>23053.0</td>\n",
       "      <td>636.369713</td>\n",
       "      <td>622.363498</td>\n",
       "      <td>-1499.000</td>\n",
       "      <td>312.00</td>\n",
       "      <td>710.00</td>\n",
       "      <td>1109.000</td>\n",
       "      <td>1500.0</td>\n",
       "    </tr>\n",
       "    <tr>\n",
       "      <th>Tax</th>\n",
       "      <td>23053.0</td>\n",
       "      <td>248.667192</td>\n",
       "      <td>187.177773</td>\n",
       "      <td>7.350</td>\n",
       "      <td>98.28</td>\n",
       "      <td>199.08</td>\n",
       "      <td>365.715</td>\n",
       "      <td>787.5</td>\n",
       "    </tr>\n",
       "    <tr>\n",
       "      <th>total_amt</th>\n",
       "      <td>23053.0</td>\n",
       "      <td>2107.308002</td>\n",
       "      <td>2507.561264</td>\n",
       "      <td>-8270.925</td>\n",
       "      <td>762.45</td>\n",
       "      <td>1754.74</td>\n",
       "      <td>3569.150</td>\n",
       "      <td>8287.5</td>\n",
       "    </tr>\n",
       "  </tbody>\n",
       "</table>\n",
       "</div>"
      ],
      "text/plain": [
       "             count         mean          std       min     25%      50%  \\\n",
       "Qty        23053.0     2.432395     2.268406    -5.000    1.00     3.00   \n",
       "Rate       23053.0   636.369713   622.363498 -1499.000  312.00   710.00   \n",
       "Tax        23053.0   248.667192   187.177773     7.350   98.28   199.08   \n",
       "total_amt  23053.0  2107.308002  2507.561264 -8270.925  762.45  1754.74   \n",
       "\n",
       "                75%     max  \n",
       "Qty           4.000     5.0  \n",
       "Rate       1109.000  1500.0  \n",
       "Tax         365.715   787.5  \n",
       "total_amt  3569.150  8287.5  "
      ]
     },
     "execution_count": 7,
     "metadata": {},
     "output_type": "execute_result"
    }
   ],
   "source": [
    "Customer_final.loc[:,['Qty','Rate','Tax','total_amt']].describe().T"
   ]
  },
  {
   "cell_type": "code",
   "execution_count": 8,
   "metadata": {},
   "outputs": [
    {
     "name": "stdout",
     "output_type": "stream",
     "text": [
      "col_0        count\n",
      "customer_Id       \n",
      "266783           5\n",
      "266784           3\n",
      "266785           8\n",
      "266788           4\n",
      "266794          12\n",
      "col_0       count\n",
      "DOB              \n",
      "01-01-1972      5\n",
      "01-01-1978      4\n",
      "01-01-1979      3\n",
      "01-01-1980     10\n",
      "01-01-1981      4\n",
      "col_0   count\n",
      "Gender       \n",
      "F       11233\n",
      "M       11811\n",
      "col_0      count\n",
      "city_code       \n",
      "1.0         2258\n",
      "2.0         2270\n",
      "3.0         2411\n",
      "4.0         2422\n",
      "5.0         2360\n",
      "col_0           count\n",
      "transaction_id       \n",
      "3268991             1\n",
      "7073244             1\n",
      "10861359            1\n",
      "15741026            1\n",
      "16165359            1\n",
      "col_0      count\n",
      "tran_date       \n",
      "1/1/2012      12\n",
      "1/1/2013      19\n",
      "1/1/2014      31\n",
      "1/10/2011     19\n",
      "1/10/2012     19\n",
      "col_0             count\n",
      "prod_subcat_code       \n",
      "1                  2950\n",
      "2                  1007\n",
      "3                  3067\n",
      "4                  4002\n",
      "5                   958\n",
      "col_0          count\n",
      "prod_cat_code       \n",
      "1               2960\n",
      "2               2999\n",
      "3               4898\n",
      "4               1998\n",
      "5               6069\n",
      "col_0           count\n",
      "Store_type           \n",
      "Flagship store   4577\n",
      "MBR              4661\n",
      "TeleShop         4504\n",
      "e-Shop           9311\n",
      "col_0        count\n",
      "prod_cat          \n",
      "Bags          1998\n",
      "Books         6069\n",
      "Clothing      2960\n",
      "Electronics   4898\n",
      "Footwear      2999\n"
     ]
    }
   ],
   "source": [
    "#### Frequency table for all categorical variables\n",
    "print(pd.crosstab(Customer_final['customer_Id'],columns='count').head())\n",
    "print(pd.crosstab(Customer_final['DOB'],columns='count').head())\n",
    "print(pd.crosstab(Customer_final['Gender'],columns='count').head())\n",
    "print(pd.crosstab(Customer_final['city_code'],columns='count').head())\n",
    "print(pd.crosstab(Customer_final['transaction_id'],columns='count').head())\n",
    "print(pd.crosstab(Customer_final['tran_date'],columns='count').head())\n",
    "print(pd.crosstab(Customer_final['prod_subcat_code'],columns='count').head())\n",
    "print(pd.crosstab(Customer_final['prod_cat_code'],columns='count').head())\n",
    "print(pd.crosstab(Customer_final['Store_type'],columns='count').head())\n",
    "print(pd.crosstab(Customer_final['prod_cat'],columns='count').head())"
   ]
  },
  {
   "cell_type": "code",
   "execution_count": 9,
   "metadata": {},
   "outputs": [
    {
     "data": {
      "image/png": "[encoded data removed]",
      "text/plain": [
       "<Figure size 432x288 with 1 Axes>"
      ]
     },
     "metadata": {
      "needs_background": "light"
     },
     "output_type": "display_data"
    },
    {
     "data": {
      "image/png": "[encoded data removed]",
      "text/plain": [
       "<Figure size 432x288 with 1 Axes>"
      ]
     },
     "metadata": {
      "needs_background": "light"
     },
     "output_type": "display_data"
    },
    {
     "data": {
      "image/png": "[encoded data removed]",
      "text/plain": [
       "<Figure size 432x288 with 1 Axes>"
      ]
     },
     "metadata": {
      "needs_background": "light"
     },
     "output_type": "display_data"
    },
    {
     "data": {
      "image/png": "[encoded data removed]",
      "text/plain": [
       "<Figure size 432x288 with 1 Axes>"
      ]
     },
     "metadata": {
      "needs_background": "light"
     },
     "output_type": "display_data"
    }
   ],
   "source": [
    "#### Histograms for all continuous variables\n",
    "## Quantity\n",
    "Customer_final['Qty'].hist()\n",
    "plt.xlabel('Most Quantity Ordered')\n",
    "plt.show()\n",
    "\n",
    "## Rate\n",
    "Customer_final['Rate'].hist()\n",
    "plt.xlabel('Rate')\n",
    "plt.show()\n",
    "\n",
    "## Tax\n",
    "Customer_final['Tax'].hist()\n",
    "plt.xlabel('Tax')\n",
    "plt.show()\n",
    "\n",
    "## total_amt\n",
    "Customer_final['total_amt'].hist()\n",
    "plt.xlabel('total_amt')\n",
    "plt.show()"
   ]
  },
  {
   "cell_type": "code",
   "execution_count": 89,
   "metadata": {},
   "outputs": [
    {
     "data": {
      "image/png": "[encoded data removed]",
      "text/plain": [
       "<Figure size 432x288 with 1 Axes>"
      ]
     },
     "metadata": {
      "needs_background": "light"
     },
     "output_type": "display_data"
    },
    {
     "data": {
      "image/png": "[encoded data removed]",
      "text/plain": [
       "<Figure size 432x288 with 1 Axes>"
      ]
     },
     "metadata": {
      "needs_background": "light"
     },
     "output_type": "display_data"
    }
   ],
   "source": [
    "##### Frequency bar for all categorical variable\n",
    "## DOB\n",
    "Customer_final['DOB']=Customer_final['DOB'].apply(lambda x:pd.to_datetime(x,format='%d-%m-%Y'))\n",
    "sns.countplot( Customer_final.DOB )\n",
    "plt.show()\n",
    "## Gender\n",
    "Customer_final['Gender'].value_counts().plot('bar')\n",
    "plt.show()\n",
    "\n",
    "## "
   ]
  },
  {
   "cell_type": "code",
   "execution_count": 82,
   "metadata": {},
   "outputs": [
    {
     "data": {
      "text/plain": [
       "Timedelta('8397 days 00:00:00')"
      ]
     },
     "execution_count": 82,
     "metadata": {},
     "output_type": "execute_result"
    }
   ],
   "source": [
    "### Ques 4 (a)\n",
    "Customer_final['tran_date']=Customer_final['DOB'].apply(lambda x:pd.to_datetime(x,format='%d/%m/%Y'))\n",
    "Customer_final['tran_date'].max()-Customer_final['tran_date'].min()"
   ]
  },
  {
   "cell_type": "code",
   "execution_count": 12,
   "metadata": {},
   "outputs": [
    {
     "data": {
      "text/plain": [
       "2177"
      ]
     },
     "execution_count": 12,
     "metadata": {},
     "output_type": "execute_result"
    }
   ],
   "source": [
    "### Ques 4 (b)\n",
    "Customer_final.loc[Customer_final.total_amt<0].shape[0]"
   ]
  },
  {
   "cell_type": "code",
   "execution_count": 13,
   "metadata": {},
   "outputs": [
    {
     "name": "stdout",
     "output_type": "stream",
     "text": [
      "prod_cat\n",
      "Books    2949\n",
      "Name: prod_cat, dtype: int64\n",
      "prod_cat\n",
      "Books    3116\n",
      "Name: prod_cat, dtype: int64\n"
     ]
    }
   ],
   "source": [
    "### Ques 5\n",
    "Fem_count=Customer_final[Customer_final.Gender=='F'].groupby('prod_cat')['prod_cat'].agg('count').sort_values().tail(1)\n",
    "mal_count=Customer_final[Customer_final.Gender=='M'].groupby('prod_cat')['prod_cat'].agg('count').sort_values().tail(1)\n",
    "print(Fem_count)\n",
    "print(mal_count)"
   ]
  },
  {
   "cell_type": "code",
   "execution_count": 65,
   "metadata": {},
   "outputs": [
    {
     "data": {
      "text/plain": [
       "city_code\n",
       "4.0    43.988376\n",
       "Name: customer_Id, dtype: float64"
      ]
     },
     "execution_count": 65,
     "metadata": {},
     "output_type": "execute_result"
    }
   ],
   "source": [
    "### Ques 6\n",
    "city_with_max_cust=Customer_final.groupby('city_code')['customer_Id'].agg('count').sort_values().tail(1)\n",
    "tot_cust=Customer_final['customer_Id'].agg('nunique')\n",
    "(city_with_max_cust/tot_cust)*100"
   ]
  },
  {
   "cell_type": "code",
   "execution_count": 15,
   "metadata": {},
   "outputs": [
    {
     "data": {
      "text/plain": [
       "Store_type\n",
       "Flagship store    11133\n",
       "MBR               11194\n",
       "TeleShop          10984\n",
       "e-Shop            22763\n",
       "Name: Qty, dtype: int64"
      ]
     },
     "execution_count": 15,
     "metadata": {},
     "output_type": "execute_result"
    }
   ],
   "source": [
    "### Ques 7\n",
    "Customer_final.groupby('Store_type')['Qty'].agg('sum')"
   ]
  },
  {
   "cell_type": "code",
   "execution_count": 58,
   "metadata": {
    "scrolled": true
   },
   "outputs": [
    {
     "data": {
      "text/html": [
       "<div>\n",
       "<style scoped>\n",
       "    .dataframe tbody tr th:only-of-type {\n",
       "        vertical-align: middle;\n",
       "    }\n",
       "\n",
       "    .dataframe tbody tr th {\n",
       "        vertical-align: top;\n",
       "    }\n",
       "\n",
       "    .dataframe thead th {\n",
       "        text-align: right;\n",
       "    }\n",
       "</style>\n",
       "<table border=\"1\" class=\"dataframe\">\n",
       "  <thead>\n",
       "    <tr style=\"text-align: right;\">\n",
       "      <th></th>\n",
       "      <th>index</th>\n",
       "      <th>prod_cat</th>\n",
       "      <th>total_amt</th>\n",
       "    </tr>\n",
       "  </thead>\n",
       "  <tbody>\n",
       "    <tr>\n",
       "      <th>0</th>\n",
       "      <td>2</td>\n",
       "      <td>Clothing</td>\n",
       "      <td>1194423.23</td>\n",
       "    </tr>\n",
       "    <tr>\n",
       "      <th>1</th>\n",
       "      <td>3</td>\n",
       "      <td>Electronics</td>\n",
       "      <td>2215136.04</td>\n",
       "    </tr>\n",
       "  </tbody>\n",
       "</table>\n",
       "</div>"
      ],
      "text/plain": [
       "   index     prod_cat   total_amt\n",
       "0      2     Clothing  1194423.23\n",
       "1      3  Electronics  2215136.04"
      ]
     },
     "execution_count": 58,
     "metadata": {},
     "output_type": "execute_result"
    }
   ],
   "source": [
    "## Ques 8\n",
    "df=Customer_final.loc[Customer_final.Store_type=='Flagship store'].groupby('prod_cat')['total_amt'].agg('sum').reset_index()\n",
    "##print(df)\n",
    "df.loc[(df.prod_cat.isin(['Electronics','Clothing']))].reset_index()"
   ]
  },
  {
   "cell_type": "code",
   "execution_count": 62,
   "metadata": {},
   "outputs": [
    {
     "data": {
      "text/html": [
       "<div>\n",
       "<style scoped>\n",
       "    .dataframe tbody tr th:only-of-type {\n",
       "        vertical-align: middle;\n",
       "    }\n",
       "\n",
       "    .dataframe tbody tr th {\n",
       "        vertical-align: top;\n",
       "    }\n",
       "\n",
       "    .dataframe thead th {\n",
       "        text-align: right;\n",
       "    }\n",
       "</style>\n",
       "<table border=\"1\" class=\"dataframe\">\n",
       "  <thead>\n",
       "    <tr style=\"text-align: right;\">\n",
       "      <th></th>\n",
       "      <th>index</th>\n",
       "      <th>prod_cat</th>\n",
       "      <th>total_amt</th>\n",
       "    </tr>\n",
       "  </thead>\n",
       "  <tbody>\n",
       "    <tr>\n",
       "      <th>0</th>\n",
       "      <td>3</td>\n",
       "      <td>Electronics</td>\n",
       "      <td>5703109.425</td>\n",
       "    </tr>\n",
       "  </tbody>\n",
       "</table>\n",
       "</div>"
      ],
      "text/plain": [
       "   index     prod_cat    total_amt\n",
       "0      3  Electronics  5703109.425"
      ]
     },
     "execution_count": 62,
     "metadata": {},
     "output_type": "execute_result"
    }
   ],
   "source": [
    "## Ques 9\n",
    "df9=Customer_final.loc[Customer_final.Gender=='M'].groupby('prod_cat')['total_amt'].agg('sum').reset_index()\n",
    "df9.loc[df9.prod_cat=='Electronics'].reset_index()"
   ]
  },
  {
   "cell_type": "code",
   "execution_count": 71,
   "metadata": {},
   "outputs": [
    {
     "data": {
      "text/plain": [
       "6"
      ]
     },
     "execution_count": 71,
     "metadata": {},
     "output_type": "execute_result"
    }
   ],
   "source": [
    "## Ques 10\n",
    "df10=Customer_final.loc[Customer_final.total_amt>=0].groupby('customer_Id')['transaction_id'].agg('nunique').reset_index()\n",
    "df10.loc[df10.transaction_id>10].reset_index().shape[0]"
   ]
  },
  {
   "cell_type": "code",
   "execution_count": 116,
   "metadata": {},
   "outputs": [
    {
     "data": {
      "text/html": [
       "<div>\n",
       "<style scoped>\n",
       "    .dataframe tbody tr th:only-of-type {\n",
       "        vertical-align: middle;\n",
       "    }\n",
       "\n",
       "    .dataframe tbody tr th {\n",
       "        vertical-align: top;\n",
       "    }\n",
       "\n",
       "    .dataframe thead th {\n",
       "        text-align: right;\n",
       "    }\n",
       "</style>\n",
       "<table border=\"1\" class=\"dataframe\">\n",
       "  <thead>\n",
       "    <tr style=\"text-align: right;\">\n",
       "      <th></th>\n",
       "      <th>prod_cat</th>\n",
       "      <th>total_amt</th>\n",
       "    </tr>\n",
       "  </thead>\n",
       "  <tbody>\n",
       "    <tr>\n",
       "      <th>1</th>\n",
       "      <td>Books</td>\n",
       "      <td>4330087.255</td>\n",
       "    </tr>\n",
       "    <tr>\n",
       "      <th>3</th>\n",
       "      <td>Electronics</td>\n",
       "      <td>3832189.725</td>\n",
       "    </tr>\n",
       "  </tbody>\n",
       "</table>\n",
       "</div>"
      ],
      "text/plain": [
       "      prod_cat    total_amt\n",
       "1        Books  4330087.255\n",
       "3  Electronics  3832189.725"
      ]
     },
     "execution_count": 116,
     "metadata": {},
     "output_type": "execute_result"
    }
   ],
   "source": [
    "## Ques 11  part (a)\n",
    "Customer_final['age']=Customer_final['DOB'].apply(lambda x:pd.Timestamp.now().year-x.year)\n",
    "df11=Customer_final.loc[Customer_final.age.isin(range(25,36))].groupby('prod_cat')['total_amt'].agg('sum').reset_index()\n",
    "df11[df11.prod_cat.isin(['Electronics','Books'])]"
   ]
  },
  {
   "cell_type": "code",
   "execution_count": 135,
   "metadata": {},
   "outputs": [
    {
     "data": {
      "text/plain": [
       "17084123.225"
      ]
     },
     "execution_count": 135,
     "metadata": {},
     "output_type": "execute_result"
    }
   ],
   "source": [
    "## Ques 11  part (b)\n",
    "d1='1 Jan 2014'\n",
    "d2='1 Mar 2014'\n",
    "d1=pd.to_datetime(d1,format='%d %b %Y')\n",
    "d2=pd.to_datetime(d2,format='%d %b %Y')\n",
    "df11b=Customer_final.loc[Customer_final.age.isin(range(25,36))&((Customer_final.tran_date>=d1) | (Customer_final.tran_date<=d2))]\n",
    "df11b['total_amt'].sum()"
   ]
  }
 ],
 "metadata": {
  "kernelspec": {
   "display_name": "Python 3",
   "language": "python",
   "name": "python3"
  },
  "language_info": {
   "codemirror_mode": {
    "name": "ipython",
    "version": 3
   },
   "file_extension": ".py",
   "mimetype": "text/x-python",
   "name": "python",
   "nbconvert_exporter": "python",
   "pygments_lexer": "ipython3",
   "version": "3.7.0"
  }
 },
 "nbformat": 4,
 "nbformat_minor": 2
}
